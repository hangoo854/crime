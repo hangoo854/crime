{
 "cells": [
  {
   "cell_type": "code",
   "execution_count": 3,
   "metadata": {
    "collapsed": true
   },
   "outputs": [],
   "source": [
    "import pandas as pd"
   ]
  },
  {
   "cell_type": "code",
   "execution_count": 4,
   "metadata": {
    "collapsed": true
   },
   "outputs": [],
   "source": [
    "cctv2015 = pd.read_excel('CCTV_2015.xls')"
   ]
  },
  {
   "cell_type": "code",
   "execution_count": 5,
   "metadata": {},
   "outputs": [
    {
     "data": {
      "text/html": [
       "<div>\n",
       "<style>\n",
       "    .dataframe thead tr:only-child th {\n",
       "        text-align: right;\n",
       "    }\n",
       "\n",
       "    .dataframe thead th {\n",
       "        text-align: left;\n",
       "    }\n",
       "\n",
       "    .dataframe tbody tr th {\n",
       "        vertical-align: top;\n",
       "    }\n",
       "</style>\n",
       "<table border=\"1\" class=\"dataframe\">\n",
       "  <thead>\n",
       "    <tr style=\"text-align: right;\">\n",
       "      <th></th>\n",
       "      <th>구별</th>\n",
       "      <th>소계</th>\n",
       "      <th>2014년 이전</th>\n",
       "      <th>2015년</th>\n",
       "    </tr>\n",
       "  </thead>\n",
       "  <tbody>\n",
       "    <tr>\n",
       "      <th>0</th>\n",
       "      <td>강남구</td>\n",
       "      <td>3213</td>\n",
       "      <td>2453</td>\n",
       "      <td>760</td>\n",
       "    </tr>\n",
       "    <tr>\n",
       "      <th>1</th>\n",
       "      <td>강동구</td>\n",
       "      <td>1243</td>\n",
       "      <td>1101</td>\n",
       "      <td>142</td>\n",
       "    </tr>\n",
       "    <tr>\n",
       "      <th>2</th>\n",
       "      <td>강북구</td>\n",
       "      <td>689</td>\n",
       "      <td>542</td>\n",
       "      <td>147</td>\n",
       "    </tr>\n",
       "    <tr>\n",
       "      <th>3</th>\n",
       "      <td>강서구</td>\n",
       "      <td>863</td>\n",
       "      <td>686</td>\n",
       "      <td>177</td>\n",
       "    </tr>\n",
       "    <tr>\n",
       "      <th>4</th>\n",
       "      <td>관악구</td>\n",
       "      <td>2510</td>\n",
       "      <td>1917</td>\n",
       "      <td>593</td>\n",
       "    </tr>\n",
       "  </tbody>\n",
       "</table>\n",
       "</div>"
      ],
      "text/plain": [
       "    구별    소계  2014년 이전  2015년\n",
       "0  강남구  3213      2453    760\n",
       "1  강동구  1243      1101    142\n",
       "2  강북구   689       542    147\n",
       "3  강서구   863       686    177\n",
       "4  관악구  2510      1917    593"
      ]
     },
     "execution_count": 5,
     "metadata": {},
     "output_type": "execute_result"
    }
   ],
   "source": [
    "cctv2015.head()"
   ]
  },
  {
   "cell_type": "code",
   "execution_count": 6,
   "metadata": {},
   "outputs": [
    {
     "data": {
      "text/html": [
       "<div>\n",
       "<style>\n",
       "    .dataframe thead tr:only-child th {\n",
       "        text-align: right;\n",
       "    }\n",
       "\n",
       "    .dataframe thead th {\n",
       "        text-align: left;\n",
       "    }\n",
       "\n",
       "    .dataframe tbody tr th {\n",
       "        vertical-align: top;\n",
       "    }\n",
       "</style>\n",
       "<table border=\"1\" class=\"dataframe\">\n",
       "  <thead>\n",
       "    <tr style=\"text-align: right;\">\n",
       "      <th></th>\n",
       "      <th>구분</th>\n",
       "      <th>총인구</th>\n",
       "      <th>남자</th>\n",
       "      <th>여자</th>\n",
       "    </tr>\n",
       "  </thead>\n",
       "  <tbody>\n",
       "    <tr>\n",
       "      <th>0</th>\n",
       "      <td>종로구</td>\n",
       "      <td>161331</td>\n",
       "      <td>79589</td>\n",
       "      <td>81742</td>\n",
       "    </tr>\n",
       "    <tr>\n",
       "      <th>1</th>\n",
       "      <td>중구</td>\n",
       "      <td>128829</td>\n",
       "      <td>63480</td>\n",
       "      <td>65349</td>\n",
       "    </tr>\n",
       "    <tr>\n",
       "      <th>2</th>\n",
       "      <td>용산구</td>\n",
       "      <td>228421</td>\n",
       "      <td>110575</td>\n",
       "      <td>117846</td>\n",
       "    </tr>\n",
       "    <tr>\n",
       "      <th>3</th>\n",
       "      <td>성동구</td>\n",
       "      <td>295266</td>\n",
       "      <td>146596</td>\n",
       "      <td>148670</td>\n",
       "    </tr>\n",
       "    <tr>\n",
       "      <th>4</th>\n",
       "      <td>광진구</td>\n",
       "      <td>369494</td>\n",
       "      <td>181495</td>\n",
       "      <td>187999</td>\n",
       "    </tr>\n",
       "  </tbody>\n",
       "</table>\n",
       "</div>"
      ],
      "text/plain": [
       "    구분     총인구      남자      여자\n",
       "0  종로구  161331   79589   81742\n",
       "1   중구  128829   63480   65349\n",
       "2  용산구  228421  110575  117846\n",
       "3  성동구  295266  146596  148670\n",
       "4  광진구  369494  181495  187999"
      ]
     },
     "execution_count": 6,
     "metadata": {},
     "output_type": "execute_result"
    }
   ],
   "source": [
    "pop2015 = pd.read_excel('population_2015.xls')\n",
    "pop2015.head()"
   ]
  },
  {
   "cell_type": "code",
   "execution_count": 7,
   "metadata": {},
   "outputs": [
    {
     "data": {
      "text/html": [
       "<div>\n",
       "<style>\n",
       "    .dataframe thead tr:only-child th {\n",
       "        text-align: right;\n",
       "    }\n",
       "\n",
       "    .dataframe thead th {\n",
       "        text-align: left;\n",
       "    }\n",
       "\n",
       "    .dataframe tbody tr th {\n",
       "        vertical-align: top;\n",
       "    }\n",
       "</style>\n",
       "<table border=\"1\" class=\"dataframe\">\n",
       "  <thead>\n",
       "    <tr style=\"text-align: right;\">\n",
       "      <th></th>\n",
       "      <th>구별</th>\n",
       "      <th>총인구</th>\n",
       "      <th>남자</th>\n",
       "      <th>여자</th>\n",
       "    </tr>\n",
       "  </thead>\n",
       "  <tbody>\n",
       "    <tr>\n",
       "      <th>0</th>\n",
       "      <td>종로구</td>\n",
       "      <td>161331</td>\n",
       "      <td>79589</td>\n",
       "      <td>81742</td>\n",
       "    </tr>\n",
       "    <tr>\n",
       "      <th>1</th>\n",
       "      <td>중구</td>\n",
       "      <td>128829</td>\n",
       "      <td>63480</td>\n",
       "      <td>65349</td>\n",
       "    </tr>\n",
       "    <tr>\n",
       "      <th>2</th>\n",
       "      <td>용산구</td>\n",
       "      <td>228421</td>\n",
       "      <td>110575</td>\n",
       "      <td>117846</td>\n",
       "    </tr>\n",
       "    <tr>\n",
       "      <th>3</th>\n",
       "      <td>성동구</td>\n",
       "      <td>295266</td>\n",
       "      <td>146596</td>\n",
       "      <td>148670</td>\n",
       "    </tr>\n",
       "    <tr>\n",
       "      <th>4</th>\n",
       "      <td>광진구</td>\n",
       "      <td>369494</td>\n",
       "      <td>181495</td>\n",
       "      <td>187999</td>\n",
       "    </tr>\n",
       "  </tbody>\n",
       "</table>\n",
       "</div>"
      ],
      "text/plain": [
       "    구별     총인구      남자      여자\n",
       "0  종로구  161331   79589   81742\n",
       "1   중구  128829   63480   65349\n",
       "2  용산구  228421  110575  117846\n",
       "3  성동구  295266  146596  148670\n",
       "4  광진구  369494  181495  187999"
      ]
     },
     "execution_count": 7,
     "metadata": {},
     "output_type": "execute_result"
    }
   ],
   "source": [
    "pop2015.rename(columns={pop2015.columns[0] : '구별'}, inplace = True)\n",
    "pop2015.head()"
   ]
  },
  {
   "cell_type": "code",
   "execution_count": 8,
   "metadata": {},
   "outputs": [
    {
     "data": {
      "text/html": [
       "<div>\n",
       "<style>\n",
       "    .dataframe thead tr:only-child th {\n",
       "        text-align: right;\n",
       "    }\n",
       "\n",
       "    .dataframe thead th {\n",
       "        text-align: left;\n",
       "    }\n",
       "\n",
       "    .dataframe tbody tr th {\n",
       "        vertical-align: top;\n",
       "    }\n",
       "</style>\n",
       "<table border=\"1\" class=\"dataframe\">\n",
       "  <thead>\n",
       "    <tr style=\"text-align: right;\">\n",
       "      <th></th>\n",
       "      <th>구별</th>\n",
       "      <th>소계</th>\n",
       "      <th>2014년 이전</th>\n",
       "      <th>2015년</th>\n",
       "    </tr>\n",
       "  </thead>\n",
       "  <tbody>\n",
       "    <tr>\n",
       "      <th>2</th>\n",
       "      <td>강북구</td>\n",
       "      <td>689</td>\n",
       "      <td>542</td>\n",
       "      <td>147</td>\n",
       "    </tr>\n",
       "    <tr>\n",
       "      <th>9</th>\n",
       "      <td>도봉구</td>\n",
       "      <td>714</td>\n",
       "      <td>665</td>\n",
       "      <td>49</td>\n",
       "    </tr>\n",
       "    <tr>\n",
       "      <th>3</th>\n",
       "      <td>강서구</td>\n",
       "      <td>863</td>\n",
       "      <td>686</td>\n",
       "      <td>177</td>\n",
       "    </tr>\n",
       "    <tr>\n",
       "      <th>24</th>\n",
       "      <td>중랑구</td>\n",
       "      <td>917</td>\n",
       "      <td>815</td>\n",
       "      <td>102</td>\n",
       "    </tr>\n",
       "    <tr>\n",
       "      <th>17</th>\n",
       "      <td>송파구</td>\n",
       "      <td>1013</td>\n",
       "      <td>889</td>\n",
       "      <td>124</td>\n",
       "    </tr>\n",
       "  </tbody>\n",
       "</table>\n",
       "</div>"
      ],
      "text/plain": [
       "     구별    소계  2014년 이전  2015년\n",
       "2   강북구   689       542    147\n",
       "9   도봉구   714       665     49\n",
       "3   강서구   863       686    177\n",
       "24  중랑구   917       815    102\n",
       "17  송파구  1013       889    124"
      ]
     },
     "execution_count": 8,
     "metadata": {},
     "output_type": "execute_result"
    }
   ],
   "source": [
    "cctv2015.sort_values(by='소계', ascending=True).head()\n",
    "#cctv의 전체 개수가 가장 작은 구는 '강북구','도봉구','강서구','중랑구','송파구'이다."
   ]
  },
  {
   "cell_type": "code",
   "execution_count": 9,
   "metadata": {},
   "outputs": [
    {
     "data": {
      "text/html": [
       "<div>\n",
       "<style>\n",
       "    .dataframe thead tr:only-child th {\n",
       "        text-align: right;\n",
       "    }\n",
       "\n",
       "    .dataframe thead th {\n",
       "        text-align: left;\n",
       "    }\n",
       "\n",
       "    .dataframe tbody tr th {\n",
       "        vertical-align: top;\n",
       "    }\n",
       "</style>\n",
       "<table border=\"1\" class=\"dataframe\">\n",
       "  <thead>\n",
       "    <tr style=\"text-align: right;\">\n",
       "      <th></th>\n",
       "      <th>구별</th>\n",
       "      <th>소계</th>\n",
       "      <th>2014년 이전</th>\n",
       "      <th>2015년</th>\n",
       "    </tr>\n",
       "  </thead>\n",
       "  <tbody>\n",
       "    <tr>\n",
       "      <th>0</th>\n",
       "      <td>강남구</td>\n",
       "      <td>3213</td>\n",
       "      <td>2453</td>\n",
       "      <td>760</td>\n",
       "    </tr>\n",
       "    <tr>\n",
       "      <th>4</th>\n",
       "      <td>관악구</td>\n",
       "      <td>2510</td>\n",
       "      <td>1917</td>\n",
       "      <td>593</td>\n",
       "    </tr>\n",
       "    <tr>\n",
       "      <th>20</th>\n",
       "      <td>용산구</td>\n",
       "      <td>2244</td>\n",
       "      <td>2168</td>\n",
       "      <td>76</td>\n",
       "    </tr>\n",
       "    <tr>\n",
       "      <th>15</th>\n",
       "      <td>성동구</td>\n",
       "      <td>2210</td>\n",
       "      <td>2112</td>\n",
       "      <td>98</td>\n",
       "    </tr>\n",
       "    <tr>\n",
       "      <th>18</th>\n",
       "      <td>양천구</td>\n",
       "      <td>2043</td>\n",
       "      <td>1865</td>\n",
       "      <td>178</td>\n",
       "    </tr>\n",
       "  </tbody>\n",
       "</table>\n",
       "</div>"
      ],
      "text/plain": [
       "     구별    소계  2014년 이전  2015년\n",
       "0   강남구  3213      2453    760\n",
       "4   관악구  2510      1917    593\n",
       "20  용산구  2244      2168     76\n",
       "15  성동구  2210      2112     98\n",
       "18  양천구  2043      1865    178"
      ]
     },
     "execution_count": 9,
     "metadata": {},
     "output_type": "execute_result"
    }
   ],
   "source": [
    "cctv2015.sort_values(by='소계', ascending=False).head()\n",
    "#cctv가 가장 많은 구는 '강남구', '관악구', '용산구', '성동구' ,'양천구'이다."
   ]
  },
  {
   "cell_type": "code",
   "execution_count": 10,
   "metadata": {},
   "outputs": [
    {
     "data": {
      "text/html": [
       "<div>\n",
       "<style>\n",
       "    .dataframe thead tr:only-child th {\n",
       "        text-align: right;\n",
       "    }\n",
       "\n",
       "    .dataframe thead th {\n",
       "        text-align: left;\n",
       "    }\n",
       "\n",
       "    .dataframe tbody tr th {\n",
       "        vertical-align: top;\n",
       "    }\n",
       "</style>\n",
       "<table border=\"1\" class=\"dataframe\">\n",
       "  <thead>\n",
       "    <tr style=\"text-align: right;\">\n",
       "      <th></th>\n",
       "      <th>구별</th>\n",
       "      <th>총인구</th>\n",
       "      <th>남자</th>\n",
       "      <th>여자</th>\n",
       "    </tr>\n",
       "  </thead>\n",
       "  <tbody>\n",
       "    <tr>\n",
       "      <th>0</th>\n",
       "      <td>종로구</td>\n",
       "      <td>161331</td>\n",
       "      <td>79589</td>\n",
       "      <td>81742</td>\n",
       "    </tr>\n",
       "    <tr>\n",
       "      <th>1</th>\n",
       "      <td>중구</td>\n",
       "      <td>128829</td>\n",
       "      <td>63480</td>\n",
       "      <td>65349</td>\n",
       "    </tr>\n",
       "    <tr>\n",
       "      <th>2</th>\n",
       "      <td>용산구</td>\n",
       "      <td>228421</td>\n",
       "      <td>110575</td>\n",
       "      <td>117846</td>\n",
       "    </tr>\n",
       "    <tr>\n",
       "      <th>3</th>\n",
       "      <td>성동구</td>\n",
       "      <td>295266</td>\n",
       "      <td>146596</td>\n",
       "      <td>148670</td>\n",
       "    </tr>\n",
       "    <tr>\n",
       "      <th>4</th>\n",
       "      <td>광진구</td>\n",
       "      <td>369494</td>\n",
       "      <td>181495</td>\n",
       "      <td>187999</td>\n",
       "    </tr>\n",
       "  </tbody>\n",
       "</table>\n",
       "</div>"
      ],
      "text/plain": [
       "    구별     총인구      남자      여자\n",
       "0  종로구  161331   79589   81742\n",
       "1   중구  128829   63480   65349\n",
       "2  용산구  228421  110575  117846\n",
       "3  성동구  295266  146596  148670\n",
       "4  광진구  369494  181495  187999"
      ]
     },
     "execution_count": 10,
     "metadata": {},
     "output_type": "execute_result"
    }
   ],
   "source": [
    "pop2015.head()"
   ]
  },
  {
   "cell_type": "code",
   "execution_count": 11,
   "metadata": {},
   "outputs": [
    {
     "data": {
      "text/plain": [
       "array(['종로구', '중구', '용산구', '성동구', '광진구', '동대문구', '중랑구', '성북구', '강북구',\n",
       "       '도봉구', '노원구', '은평구', '서대문구', '마포구', '양천구', '강서구', '구로구', '금천구',\n",
       "       '영등포구', '동작구', '관악구', '서초구', '강남구', '송파구', '강동구'], dtype=object)"
      ]
     },
     "execution_count": 11,
     "metadata": {},
     "output_type": "execute_result"
    }
   ],
   "source": [
    "pop2015['구별'].unique()"
   ]
  },
  {
   "cell_type": "code",
   "execution_count": 12,
   "metadata": {},
   "outputs": [
    {
     "data": {
      "text/html": [
       "<div>\n",
       "<style>\n",
       "    .dataframe thead tr:only-child th {\n",
       "        text-align: right;\n",
       "    }\n",
       "\n",
       "    .dataframe thead th {\n",
       "        text-align: left;\n",
       "    }\n",
       "\n",
       "    .dataframe tbody tr th {\n",
       "        vertical-align: top;\n",
       "    }\n",
       "</style>\n",
       "<table border=\"1\" class=\"dataframe\">\n",
       "  <thead>\n",
       "    <tr style=\"text-align: right;\">\n",
       "      <th></th>\n",
       "      <th>구별</th>\n",
       "      <th>총인구</th>\n",
       "      <th>남자</th>\n",
       "      <th>여자</th>\n",
       "      <th>여성비율</th>\n",
       "      <th>남성비율</th>\n",
       "    </tr>\n",
       "  </thead>\n",
       "  <tbody>\n",
       "    <tr>\n",
       "      <th>0</th>\n",
       "      <td>종로구</td>\n",
       "      <td>161331</td>\n",
       "      <td>79589</td>\n",
       "      <td>81742</td>\n",
       "      <td>50.667262</td>\n",
       "      <td>49.332738</td>\n",
       "    </tr>\n",
       "    <tr>\n",
       "      <th>1</th>\n",
       "      <td>중구</td>\n",
       "      <td>128829</td>\n",
       "      <td>63480</td>\n",
       "      <td>65349</td>\n",
       "      <td>50.725380</td>\n",
       "      <td>49.274620</td>\n",
       "    </tr>\n",
       "    <tr>\n",
       "      <th>2</th>\n",
       "      <td>용산구</td>\n",
       "      <td>228421</td>\n",
       "      <td>110575</td>\n",
       "      <td>117846</td>\n",
       "      <td>51.591579</td>\n",
       "      <td>48.408421</td>\n",
       "    </tr>\n",
       "    <tr>\n",
       "      <th>3</th>\n",
       "      <td>성동구</td>\n",
       "      <td>295266</td>\n",
       "      <td>146596</td>\n",
       "      <td>148670</td>\n",
       "      <td>50.351209</td>\n",
       "      <td>49.648791</td>\n",
       "    </tr>\n",
       "    <tr>\n",
       "      <th>4</th>\n",
       "      <td>광진구</td>\n",
       "      <td>369494</td>\n",
       "      <td>181495</td>\n",
       "      <td>187999</td>\n",
       "      <td>50.880123</td>\n",
       "      <td>49.119877</td>\n",
       "    </tr>\n",
       "  </tbody>\n",
       "</table>\n",
       "</div>"
      ],
      "text/plain": [
       "    구별     총인구      남자      여자       여성비율       남성비율\n",
       "0  종로구  161331   79589   81742  50.667262  49.332738\n",
       "1   중구  128829   63480   65349  50.725380  49.274620\n",
       "2  용산구  228421  110575  117846  51.591579  48.408421\n",
       "3  성동구  295266  146596  148670  50.351209  49.648791\n",
       "4  광진구  369494  181495  187999  50.880123  49.119877"
      ]
     },
     "execution_count": 12,
     "metadata": {},
     "output_type": "execute_result"
    }
   ],
   "source": [
    "pop2015['여성비율'] = pop2015['여자'] / pop2015['총인구'] * 100\n",
    "pop2015['남성비율'] = pop2015['남자'] / pop2015['총인구'] * 100\n",
    "pop2015.head()"
   ]
  },
  {
   "cell_type": "code",
   "execution_count": 13,
   "metadata": {},
   "outputs": [
    {
     "data": {
      "text/html": [
       "<div>\n",
       "<style>\n",
       "    .dataframe thead tr:only-child th {\n",
       "        text-align: right;\n",
       "    }\n",
       "\n",
       "    .dataframe thead th {\n",
       "        text-align: left;\n",
       "    }\n",
       "\n",
       "    .dataframe tbody tr th {\n",
       "        vertical-align: top;\n",
       "    }\n",
       "</style>\n",
       "<table border=\"1\" class=\"dataframe\">\n",
       "  <thead>\n",
       "    <tr style=\"text-align: right;\">\n",
       "      <th></th>\n",
       "      <th>구별</th>\n",
       "      <th>총인구</th>\n",
       "      <th>남자</th>\n",
       "      <th>여자</th>\n",
       "      <th>여성비율</th>\n",
       "      <th>남성비율</th>\n",
       "    </tr>\n",
       "  </thead>\n",
       "  <tbody>\n",
       "    <tr>\n",
       "      <th>23</th>\n",
       "      <td>송파구</td>\n",
       "      <td>637828</td>\n",
       "      <td>310746</td>\n",
       "      <td>327082</td>\n",
       "      <td>51.280596</td>\n",
       "      <td>48.719404</td>\n",
       "    </tr>\n",
       "    <tr>\n",
       "      <th>15</th>\n",
       "      <td>강서구</td>\n",
       "      <td>570097</td>\n",
       "      <td>278150</td>\n",
       "      <td>291947</td>\n",
       "      <td>51.210057</td>\n",
       "      <td>48.789943</td>\n",
       "    </tr>\n",
       "    <tr>\n",
       "      <th>10</th>\n",
       "      <td>노원구</td>\n",
       "      <td>566097</td>\n",
       "      <td>275839</td>\n",
       "      <td>290258</td>\n",
       "      <td>51.273545</td>\n",
       "      <td>48.726455</td>\n",
       "    </tr>\n",
       "    <tr>\n",
       "      <th>22</th>\n",
       "      <td>강남구</td>\n",
       "      <td>540548</td>\n",
       "      <td>258775</td>\n",
       "      <td>281773</td>\n",
       "      <td>52.127286</td>\n",
       "      <td>47.872714</td>\n",
       "    </tr>\n",
       "    <tr>\n",
       "      <th>20</th>\n",
       "      <td>관악구</td>\n",
       "      <td>521481</td>\n",
       "      <td>263101</td>\n",
       "      <td>258380</td>\n",
       "      <td>49.547347</td>\n",
       "      <td>50.452653</td>\n",
       "    </tr>\n",
       "  </tbody>\n",
       "</table>\n",
       "</div>"
      ],
      "text/plain": [
       "     구별     총인구      남자      여자       여성비율       남성비율\n",
       "23  송파구  637828  310746  327082  51.280596  48.719404\n",
       "15  강서구  570097  278150  291947  51.210057  48.789943\n",
       "10  노원구  566097  275839  290258  51.273545  48.726455\n",
       "22  강남구  540548  258775  281773  52.127286  47.872714\n",
       "20  관악구  521481  263101  258380  49.547347  50.452653"
      ]
     },
     "execution_count": 13,
     "metadata": {},
     "output_type": "execute_result"
    }
   ],
   "source": [
    "pop2015.sort_values(by = '총인구', ascending = False).head()\n",
    "# 2017년 자치구별 인구수는 '송파구', '강서구', '노원구', 강남구', '관악구' 순으로 인구가 많다."
   ]
  },
  {
   "cell_type": "code",
   "execution_count": 14,
   "metadata": {},
   "outputs": [
    {
     "data": {
      "text/html": [
       "<div>\n",
       "<style>\n",
       "    .dataframe thead tr:only-child th {\n",
       "        text-align: right;\n",
       "    }\n",
       "\n",
       "    .dataframe thead th {\n",
       "        text-align: left;\n",
       "    }\n",
       "\n",
       "    .dataframe tbody tr th {\n",
       "        vertical-align: top;\n",
       "    }\n",
       "</style>\n",
       "<table border=\"1\" class=\"dataframe\">\n",
       "  <thead>\n",
       "    <tr style=\"text-align: right;\">\n",
       "      <th></th>\n",
       "      <th>구별</th>\n",
       "      <th>소계</th>\n",
       "      <th>2014년 이전</th>\n",
       "      <th>2015년</th>\n",
       "      <th>총인구</th>\n",
       "      <th>남자</th>\n",
       "      <th>여자</th>\n",
       "      <th>여성비율</th>\n",
       "      <th>남성비율</th>\n",
       "    </tr>\n",
       "  </thead>\n",
       "  <tbody>\n",
       "    <tr>\n",
       "      <th>0</th>\n",
       "      <td>강남구</td>\n",
       "      <td>3213</td>\n",
       "      <td>2453</td>\n",
       "      <td>760</td>\n",
       "      <td>540548</td>\n",
       "      <td>258775</td>\n",
       "      <td>281773</td>\n",
       "      <td>52.127286</td>\n",
       "      <td>47.872714</td>\n",
       "    </tr>\n",
       "    <tr>\n",
       "      <th>1</th>\n",
       "      <td>강동구</td>\n",
       "      <td>1243</td>\n",
       "      <td>1101</td>\n",
       "      <td>142</td>\n",
       "      <td>449659</td>\n",
       "      <td>223280</td>\n",
       "      <td>226379</td>\n",
       "      <td>50.344594</td>\n",
       "      <td>49.655406</td>\n",
       "    </tr>\n",
       "    <tr>\n",
       "      <th>2</th>\n",
       "      <td>강북구</td>\n",
       "      <td>689</td>\n",
       "      <td>542</td>\n",
       "      <td>147</td>\n",
       "      <td>321909</td>\n",
       "      <td>157363</td>\n",
       "      <td>164546</td>\n",
       "      <td>51.115688</td>\n",
       "      <td>48.884312</td>\n",
       "    </tr>\n",
       "    <tr>\n",
       "      <th>3</th>\n",
       "      <td>강서구</td>\n",
       "      <td>863</td>\n",
       "      <td>686</td>\n",
       "      <td>177</td>\n",
       "      <td>570097</td>\n",
       "      <td>278150</td>\n",
       "      <td>291947</td>\n",
       "      <td>51.210057</td>\n",
       "      <td>48.789943</td>\n",
       "    </tr>\n",
       "    <tr>\n",
       "      <th>4</th>\n",
       "      <td>관악구</td>\n",
       "      <td>2510</td>\n",
       "      <td>1917</td>\n",
       "      <td>593</td>\n",
       "      <td>521481</td>\n",
       "      <td>263101</td>\n",
       "      <td>258380</td>\n",
       "      <td>49.547347</td>\n",
       "      <td>50.452653</td>\n",
       "    </tr>\n",
       "  </tbody>\n",
       "</table>\n",
       "</div>"
      ],
      "text/plain": [
       "    구별    소계  2014년 이전  2015년     총인구      남자      여자       여성비율       남성비율\n",
       "0  강남구  3213      2453    760  540548  258775  281773  52.127286  47.872714\n",
       "1  강동구  1243      1101    142  449659  223280  226379  50.344594  49.655406\n",
       "2  강북구   689       542    147  321909  157363  164546  51.115688  48.884312\n",
       "3  강서구   863       686    177  570097  278150  291947  51.210057  48.789943\n",
       "4  관악구  2510      1917    593  521481  263101  258380  49.547347  50.452653"
      ]
     },
     "execution_count": 14,
     "metadata": {},
     "output_type": "execute_result"
    }
   ],
   "source": [
    "merge2015 = pd.merge(cctv2015, pop2015, on='구별')\n",
    "merge2015.head()"
   ]
  },
  {
   "cell_type": "code",
   "execution_count": 15,
   "metadata": {},
   "outputs": [
    {
     "data": {
      "text/html": [
       "<div>\n",
       "<style>\n",
       "    .dataframe thead tr:only-child th {\n",
       "        text-align: right;\n",
       "    }\n",
       "\n",
       "    .dataframe thead th {\n",
       "        text-align: left;\n",
       "    }\n",
       "\n",
       "    .dataframe tbody tr th {\n",
       "        vertical-align: top;\n",
       "    }\n",
       "</style>\n",
       "<table border=\"1\" class=\"dataframe\">\n",
       "  <thead>\n",
       "    <tr style=\"text-align: right;\">\n",
       "      <th></th>\n",
       "      <th>소계</th>\n",
       "      <th>2014년 이전</th>\n",
       "      <th>2015년</th>\n",
       "      <th>총인구</th>\n",
       "      <th>남자</th>\n",
       "      <th>여자</th>\n",
       "      <th>여성비율</th>\n",
       "      <th>남성비율</th>\n",
       "    </tr>\n",
       "    <tr>\n",
       "      <th>구별</th>\n",
       "      <th></th>\n",
       "      <th></th>\n",
       "      <th></th>\n",
       "      <th></th>\n",
       "      <th></th>\n",
       "      <th></th>\n",
       "      <th></th>\n",
       "      <th></th>\n",
       "    </tr>\n",
       "  </thead>\n",
       "  <tbody>\n",
       "    <tr>\n",
       "      <th>강남구</th>\n",
       "      <td>3213</td>\n",
       "      <td>2453</td>\n",
       "      <td>760</td>\n",
       "      <td>540548</td>\n",
       "      <td>258775</td>\n",
       "      <td>281773</td>\n",
       "      <td>52.127286</td>\n",
       "      <td>47.872714</td>\n",
       "    </tr>\n",
       "    <tr>\n",
       "      <th>강동구</th>\n",
       "      <td>1243</td>\n",
       "      <td>1101</td>\n",
       "      <td>142</td>\n",
       "      <td>449659</td>\n",
       "      <td>223280</td>\n",
       "      <td>226379</td>\n",
       "      <td>50.344594</td>\n",
       "      <td>49.655406</td>\n",
       "    </tr>\n",
       "    <tr>\n",
       "      <th>강북구</th>\n",
       "      <td>689</td>\n",
       "      <td>542</td>\n",
       "      <td>147</td>\n",
       "      <td>321909</td>\n",
       "      <td>157363</td>\n",
       "      <td>164546</td>\n",
       "      <td>51.115688</td>\n",
       "      <td>48.884312</td>\n",
       "    </tr>\n",
       "    <tr>\n",
       "      <th>강서구</th>\n",
       "      <td>863</td>\n",
       "      <td>686</td>\n",
       "      <td>177</td>\n",
       "      <td>570097</td>\n",
       "      <td>278150</td>\n",
       "      <td>291947</td>\n",
       "      <td>51.210057</td>\n",
       "      <td>48.789943</td>\n",
       "    </tr>\n",
       "    <tr>\n",
       "      <th>관악구</th>\n",
       "      <td>2510</td>\n",
       "      <td>1917</td>\n",
       "      <td>593</td>\n",
       "      <td>521481</td>\n",
       "      <td>263101</td>\n",
       "      <td>258380</td>\n",
       "      <td>49.547347</td>\n",
       "      <td>50.452653</td>\n",
       "    </tr>\n",
       "  </tbody>\n",
       "</table>\n",
       "</div>"
      ],
      "text/plain": [
       "       소계  2014년 이전  2015년     총인구      남자      여자       여성비율       남성비율\n",
       "구별                                                                      \n",
       "강남구  3213      2453    760  540548  258775  281773  52.127286  47.872714\n",
       "강동구  1243      1101    142  449659  223280  226379  50.344594  49.655406\n",
       "강북구   689       542    147  321909  157363  164546  51.115688  48.884312\n",
       "강서구   863       686    177  570097  278150  291947  51.210057  48.789943\n",
       "관악구  2510      1917    593  521481  263101  258380  49.547347  50.452653"
      ]
     },
     "execution_count": 15,
     "metadata": {},
     "output_type": "execute_result"
    }
   ],
   "source": [
    "merge2015.set_index('구별', inplace=True)\n",
    "merge2015.head()\n",
    "#그래프 그릴 것을 생각하면 인덱스 값이 구 이름이 되어야 유리하다. "
   ]
  },
  {
   "cell_type": "code",
   "execution_count": 16,
   "metadata": {
    "collapsed": true
   },
   "outputs": [],
   "source": [
    "import numpy as np"
   ]
  },
  {
   "cell_type": "code",
   "execution_count": 17,
   "metadata": {},
   "outputs": [
    {
     "data": {
      "text/plain": [
       "array([[ 1.        ,  0.05360258],\n",
       "       [ 0.05360258,  1.        ]])"
      ]
     },
     "execution_count": 17,
     "metadata": {},
     "output_type": "execute_result"
    }
   ],
   "source": [
    "np.corrcoef(merge2015['여성비율'],merge2015['소계'])\n",
    "#CCTV 개수와 여성비율과의 상관관계 확인 -> 큰 의미가 없다."
   ]
  },
  {
   "cell_type": "code",
   "execution_count": 18,
   "metadata": {},
   "outputs": [
    {
     "data": {
      "text/plain": [
       "array([[ 1.        , -0.05360258],\n",
       "       [-0.05360258,  1.        ]])"
      ]
     },
     "execution_count": 18,
     "metadata": {},
     "output_type": "execute_result"
    }
   ],
   "source": [
    "np.corrcoef(merge2015['남성비율'],merge2015['소계'])\n",
    "#cctv 개수와 남성비율과의 관계는 큰 의미가 없다고 볼 수 있다."
   ]
  },
  {
   "cell_type": "code",
   "execution_count": 19,
   "metadata": {},
   "outputs": [
    {
     "data": {
      "text/plain": [
       "array([[ 1.        ,  0.08303336],\n",
       "       [ 0.08303336,  1.        ]])"
      ]
     },
     "execution_count": 19,
     "metadata": {},
     "output_type": "execute_result"
    }
   ],
   "source": [
    "np.corrcoef(merge2015['총인구'],merge2015['소계'])\n",
    "#cctv개수와 총인구수의 관계는 큰 의미가 없다."
   ]
  },
  {
   "cell_type": "code",
   "execution_count": 20,
   "metadata": {},
   "outputs": [
    {
     "data": {
      "text/html": [
       "<div>\n",
       "<style>\n",
       "    .dataframe thead tr:only-child th {\n",
       "        text-align: right;\n",
       "    }\n",
       "\n",
       "    .dataframe thead th {\n",
       "        text-align: left;\n",
       "    }\n",
       "\n",
       "    .dataframe tbody tr th {\n",
       "        vertical-align: top;\n",
       "    }\n",
       "</style>\n",
       "<table border=\"1\" class=\"dataframe\">\n",
       "  <thead>\n",
       "    <tr style=\"text-align: right;\">\n",
       "      <th></th>\n",
       "      <th>소계</th>\n",
       "      <th>2014년 이전</th>\n",
       "      <th>2015년</th>\n",
       "      <th>총인구</th>\n",
       "      <th>남자</th>\n",
       "      <th>여자</th>\n",
       "      <th>여성비율</th>\n",
       "      <th>남성비율</th>\n",
       "    </tr>\n",
       "    <tr>\n",
       "      <th>구별</th>\n",
       "      <th></th>\n",
       "      <th></th>\n",
       "      <th></th>\n",
       "      <th></th>\n",
       "      <th></th>\n",
       "      <th></th>\n",
       "      <th></th>\n",
       "      <th></th>\n",
       "    </tr>\n",
       "  </thead>\n",
       "  <tbody>\n",
       "    <tr>\n",
       "      <th>강남구</th>\n",
       "      <td>3213</td>\n",
       "      <td>2453</td>\n",
       "      <td>760</td>\n",
       "      <td>540548</td>\n",
       "      <td>258775</td>\n",
       "      <td>281773</td>\n",
       "      <td>52.127286</td>\n",
       "      <td>47.872714</td>\n",
       "    </tr>\n",
       "    <tr>\n",
       "      <th>관악구</th>\n",
       "      <td>2510</td>\n",
       "      <td>1917</td>\n",
       "      <td>593</td>\n",
       "      <td>521481</td>\n",
       "      <td>263101</td>\n",
       "      <td>258380</td>\n",
       "      <td>49.547347</td>\n",
       "      <td>50.452653</td>\n",
       "    </tr>\n",
       "    <tr>\n",
       "      <th>용산구</th>\n",
       "      <td>2244</td>\n",
       "      <td>2168</td>\n",
       "      <td>76</td>\n",
       "      <td>228421</td>\n",
       "      <td>110575</td>\n",
       "      <td>117846</td>\n",
       "      <td>51.591579</td>\n",
       "      <td>48.408421</td>\n",
       "    </tr>\n",
       "    <tr>\n",
       "      <th>성동구</th>\n",
       "      <td>2210</td>\n",
       "      <td>2112</td>\n",
       "      <td>98</td>\n",
       "      <td>295266</td>\n",
       "      <td>146596</td>\n",
       "      <td>148670</td>\n",
       "      <td>50.351209</td>\n",
       "      <td>49.648791</td>\n",
       "    </tr>\n",
       "    <tr>\n",
       "      <th>양천구</th>\n",
       "      <td>2043</td>\n",
       "      <td>1865</td>\n",
       "      <td>178</td>\n",
       "      <td>466758</td>\n",
       "      <td>230644</td>\n",
       "      <td>236114</td>\n",
       "      <td>50.585957</td>\n",
       "      <td>49.414043</td>\n",
       "    </tr>\n",
       "  </tbody>\n",
       "</table>\n",
       "</div>"
      ],
      "text/plain": [
       "       소계  2014년 이전  2015년     총인구      남자      여자       여성비율       남성비율\n",
       "구별                                                                      \n",
       "강남구  3213      2453    760  540548  258775  281773  52.127286  47.872714\n",
       "관악구  2510      1917    593  521481  263101  258380  49.547347  50.452653\n",
       "용산구  2244      2168     76  228421  110575  117846  51.591579  48.408421\n",
       "성동구  2210      2112     98  295266  146596  148670  50.351209  49.648791\n",
       "양천구  2043      1865    178  466758  230644  236114  50.585957  49.414043"
      ]
     },
     "execution_count": 20,
     "metadata": {},
     "output_type": "execute_result"
    }
   ],
   "source": [
    "merge2015.sort_values(by = '소계', ascending=False).head()"
   ]
  },
  {
   "cell_type": "code",
   "execution_count": 21,
   "metadata": {
    "collapsed": true
   },
   "outputs": [],
   "source": [
    "import matplotlib.pyplot as plt\n",
    "import platform\n",
    "from matplotlib import font_manager, rc\n",
    "plt.rcParams['axes.unicode_minus'] = False\n",
    "\n",
    "if platform.system() == 'Darwin':\n",
    "    rc('font', famaily='AppleGothic')\n",
    "elif platform.system() == 'Windows':\n",
    "    path = \"c:/Windows/Fonts/malgun.ttf\"\n",
    "    font_name = font_manager.FontProperties(fname=path).get_name()\n",
    "    rc('font', family=font_name)\n",
    "else:\n",
    "    print('Unknown system... sorry~~')\n",
    "#matplotlib이 기본으로 가진 폰트는 한글을 지원하지 않기 때문에 폰트를 변경할 필요가 있다."
   ]
  },
  {
   "cell_type": "code",
   "execution_count": 22,
   "metadata": {},
   "outputs": [
    {
     "data": {
      "text/html": [
       "<div>\n",
       "<style>\n",
       "    .dataframe thead tr:only-child th {\n",
       "        text-align: right;\n",
       "    }\n",
       "\n",
       "    .dataframe thead th {\n",
       "        text-align: left;\n",
       "    }\n",
       "\n",
       "    .dataframe tbody tr th {\n",
       "        vertical-align: top;\n",
       "    }\n",
       "</style>\n",
       "<table border=\"1\" class=\"dataframe\">\n",
       "  <thead>\n",
       "    <tr style=\"text-align: right;\">\n",
       "      <th></th>\n",
       "      <th>소계</th>\n",
       "      <th>2014년 이전</th>\n",
       "      <th>2015년</th>\n",
       "      <th>총인구</th>\n",
       "      <th>남자</th>\n",
       "      <th>여자</th>\n",
       "      <th>여성비율</th>\n",
       "      <th>남성비율</th>\n",
       "    </tr>\n",
       "    <tr>\n",
       "      <th>구별</th>\n",
       "      <th></th>\n",
       "      <th></th>\n",
       "      <th></th>\n",
       "      <th></th>\n",
       "      <th></th>\n",
       "      <th></th>\n",
       "      <th></th>\n",
       "      <th></th>\n",
       "    </tr>\n",
       "  </thead>\n",
       "  <tbody>\n",
       "    <tr>\n",
       "      <th>강남구</th>\n",
       "      <td>3213</td>\n",
       "      <td>2453</td>\n",
       "      <td>760</td>\n",
       "      <td>540548</td>\n",
       "      <td>258775</td>\n",
       "      <td>281773</td>\n",
       "      <td>52.127286</td>\n",
       "      <td>47.872714</td>\n",
       "    </tr>\n",
       "    <tr>\n",
       "      <th>강동구</th>\n",
       "      <td>1243</td>\n",
       "      <td>1101</td>\n",
       "      <td>142</td>\n",
       "      <td>449659</td>\n",
       "      <td>223280</td>\n",
       "      <td>226379</td>\n",
       "      <td>50.344594</td>\n",
       "      <td>49.655406</td>\n",
       "    </tr>\n",
       "    <tr>\n",
       "      <th>강북구</th>\n",
       "      <td>689</td>\n",
       "      <td>542</td>\n",
       "      <td>147</td>\n",
       "      <td>321909</td>\n",
       "      <td>157363</td>\n",
       "      <td>164546</td>\n",
       "      <td>51.115688</td>\n",
       "      <td>48.884312</td>\n",
       "    </tr>\n",
       "    <tr>\n",
       "      <th>강서구</th>\n",
       "      <td>863</td>\n",
       "      <td>686</td>\n",
       "      <td>177</td>\n",
       "      <td>570097</td>\n",
       "      <td>278150</td>\n",
       "      <td>291947</td>\n",
       "      <td>51.210057</td>\n",
       "      <td>48.789943</td>\n",
       "    </tr>\n",
       "    <tr>\n",
       "      <th>관악구</th>\n",
       "      <td>2510</td>\n",
       "      <td>1917</td>\n",
       "      <td>593</td>\n",
       "      <td>521481</td>\n",
       "      <td>263101</td>\n",
       "      <td>258380</td>\n",
       "      <td>49.547347</td>\n",
       "      <td>50.452653</td>\n",
       "    </tr>\n",
       "  </tbody>\n",
       "</table>\n",
       "</div>"
      ],
      "text/plain": [
       "       소계  2014년 이전  2015년     총인구      남자      여자       여성비율       남성비율\n",
       "구별                                                                      \n",
       "강남구  3213      2453    760  540548  258775  281773  52.127286  47.872714\n",
       "강동구  1243      1101    142  449659  223280  226379  50.344594  49.655406\n",
       "강북구   689       542    147  321909  157363  164546  51.115688  48.884312\n",
       "강서구   863       686    177  570097  278150  291947  51.210057  48.789943\n",
       "관악구  2510      1917    593  521481  263101  258380  49.547347  50.452653"
      ]
     },
     "execution_count": 22,
     "metadata": {},
     "output_type": "execute_result"
    }
   ],
   "source": [
    "merge2015.head()"
   ]
  },
  {
   "cell_type": "code",
   "execution_count": 23,
   "metadata": {},
   "outputs": [
    {
     "data": {
      "image/png": "[encoded data removed]",
      "text/plain": [
       "<matplotlib.figure.Figure at 0x73e3ef0>"
      ]
     },
     "metadata": {},
     "output_type": "display_data"
    }
   ],
   "source": [
    "merge2015['소계'].plot(kind='barh', grid=True, figsize=(10,10))\n",
    "plt.show()"
   ]
  },
  {
   "cell_type": "code",
   "execution_count": 24,
   "metadata": {},
   "outputs": [
    {
     "data": {
      "image/png": "[encoded data removed]",
      "text/plain": [
       "<matplotlib.figure.Figure at 0xbfbe210>"
      ]
     },
     "metadata": {},
     "output_type": "display_data"
    }
   ],
   "source": [
    "merge2015['소계'].sort_values().plot(kind='barh', grid=True, figsize=(10,10))\n",
    "plt.show()"
   ]
  },
  {
   "cell_type": "code",
   "execution_count": 25,
   "metadata": {},
   "outputs": [
    {
     "data": {
      "image/png": "[encoded data removed]",
      "text/plain": [
       "<matplotlib.figure.Figure at 0xbe0d9b0>"
      ]
     },
     "metadata": {},
     "output_type": "display_data"
    }
   ],
   "source": [
    "merge2015['CCTV비율'] = merge2015['소계'] / merge2015['총인구'] * 100\n",
    "merge2015['CCTV비율'].sort_values().plot(kind='barh', grid = True, figsize=(10,10))\n",
    "\n",
    "plt.show()\n",
    "#인구 대비 CCTV 수를 보면 용산구와 종로구가 높은 것으로 확인 된다.그러나 강서구, 송파구는 인구비로 봐도 CCTV 비율이 낮음을 알 수 있다."
   ]
  },
  {
   "cell_type": "code",
   "execution_count": 26,
   "metadata": {},
   "outputs": [
    {
     "data": {
      "text/html": [
       "<div>\n",
       "<style>\n",
       "    .dataframe thead tr:only-child th {\n",
       "        text-align: right;\n",
       "    }\n",
       "\n",
       "    .dataframe thead th {\n",
       "        text-align: left;\n",
       "    }\n",
       "\n",
       "    .dataframe tbody tr th {\n",
       "        vertical-align: top;\n",
       "    }\n",
       "</style>\n",
       "<table border=\"1\" class=\"dataframe\">\n",
       "  <thead>\n",
       "    <tr style=\"text-align: right;\">\n",
       "      <th></th>\n",
       "      <th>소계</th>\n",
       "      <th>2014년 이전</th>\n",
       "      <th>2015년</th>\n",
       "      <th>총인구</th>\n",
       "      <th>남자</th>\n",
       "      <th>여자</th>\n",
       "      <th>여성비율</th>\n",
       "      <th>남성비율</th>\n",
       "      <th>CCTV비율</th>\n",
       "    </tr>\n",
       "    <tr>\n",
       "      <th>구별</th>\n",
       "      <th></th>\n",
       "      <th></th>\n",
       "      <th></th>\n",
       "      <th></th>\n",
       "      <th></th>\n",
       "      <th></th>\n",
       "      <th></th>\n",
       "      <th></th>\n",
       "      <th></th>\n",
       "    </tr>\n",
       "  </thead>\n",
       "  <tbody>\n",
       "    <tr>\n",
       "      <th>강남구</th>\n",
       "      <td>3213</td>\n",
       "      <td>2453</td>\n",
       "      <td>760</td>\n",
       "      <td>540548</td>\n",
       "      <td>258775</td>\n",
       "      <td>281773</td>\n",
       "      <td>52.127286</td>\n",
       "      <td>47.872714</td>\n",
       "      <td>0.594397</td>\n",
       "    </tr>\n",
       "    <tr>\n",
       "      <th>강동구</th>\n",
       "      <td>1243</td>\n",
       "      <td>1101</td>\n",
       "      <td>142</td>\n",
       "      <td>449659</td>\n",
       "      <td>223280</td>\n",
       "      <td>226379</td>\n",
       "      <td>50.344594</td>\n",
       "      <td>49.655406</td>\n",
       "      <td>0.276432</td>\n",
       "    </tr>\n",
       "    <tr>\n",
       "      <th>강북구</th>\n",
       "      <td>689</td>\n",
       "      <td>542</td>\n",
       "      <td>147</td>\n",
       "      <td>321909</td>\n",
       "      <td>157363</td>\n",
       "      <td>164546</td>\n",
       "      <td>51.115688</td>\n",
       "      <td>48.884312</td>\n",
       "      <td>0.214036</td>\n",
       "    </tr>\n",
       "    <tr>\n",
       "      <th>강서구</th>\n",
       "      <td>863</td>\n",
       "      <td>686</td>\n",
       "      <td>177</td>\n",
       "      <td>570097</td>\n",
       "      <td>278150</td>\n",
       "      <td>291947</td>\n",
       "      <td>51.210057</td>\n",
       "      <td>48.789943</td>\n",
       "      <td>0.151378</td>\n",
       "    </tr>\n",
       "    <tr>\n",
       "      <th>관악구</th>\n",
       "      <td>2510</td>\n",
       "      <td>1917</td>\n",
       "      <td>593</td>\n",
       "      <td>521481</td>\n",
       "      <td>263101</td>\n",
       "      <td>258380</td>\n",
       "      <td>49.547347</td>\n",
       "      <td>50.452653</td>\n",
       "      <td>0.481321</td>\n",
       "    </tr>\n",
       "  </tbody>\n",
       "</table>\n",
       "</div>"
      ],
      "text/plain": [
       "       소계  2014년 이전  2015년     총인구      남자      여자       여성비율       남성비율  \\\n",
       "구별                                                                         \n",
       "강남구  3213      2453    760  540548  258775  281773  52.127286  47.872714   \n",
       "강동구  1243      1101    142  449659  223280  226379  50.344594  49.655406   \n",
       "강북구   689       542    147  321909  157363  164546  51.115688  48.884312   \n",
       "강서구   863       686    177  570097  278150  291947  51.210057  48.789943   \n",
       "관악구  2510      1917    593  521481  263101  258380  49.547347  50.452653   \n",
       "\n",
       "       CCTV비율  \n",
       "구별             \n",
       "강남구  0.594397  \n",
       "강동구  0.276432  \n",
       "강북구  0.214036  \n",
       "강서구  0.151378  \n",
       "관악구  0.481321  "
      ]
     },
     "execution_count": 26,
     "metadata": {},
     "output_type": "execute_result"
    }
   ],
   "source": [
    "merge2015.head()"
   ]
  },
  {
   "cell_type": "code",
   "execution_count": 27,
   "metadata": {},
   "outputs": [
    {
     "data": {
      "image/png": "[encoded data removed]",
      "text/plain": [
       "<matplotlib.figure.Figure at 0xbecdf30>"
      ]
     },
     "metadata": {},
     "output_type": "display_data"
    }
   ],
   "source": [
    "plt.figure(figsize=(6,6))\n",
    "plt.scatter(merge2015['총인구'], merge2015['소계'], s=50) #마커의 크기\n",
    "plt.xlabel('총인구')\n",
    "plt.ylabel('CCTV')\n",
    "plt.grid()\n",
    "plt.show()"
   ]
  },
  {
   "cell_type": "code",
   "execution_count": 28,
   "metadata": {},
   "outputs": [
    {
     "data": {
      "text/plain": [
       "array([  4.10808030e-04,   1.32872363e+03])"
      ]
     },
     "execution_count": 28,
     "metadata": {},
     "output_type": "execute_result"
    }
   ],
   "source": [
    "fp1 = np.polyfit(merge2015['총인구'], merge2015['소계'], 1)\n",
    "fp1"
   ]
  },
  {
   "cell_type": "code",
   "execution_count": 29,
   "metadata": {
    "collapsed": true
   },
   "outputs": [],
   "source": [
    "f1 = np.poly1d(fp1)\n",
    "fx = np.linspace(100000, 700000, 100)"
   ]
  },
  {
   "cell_type": "code",
   "execution_count": 30,
   "metadata": {},
   "outputs": [
    {
     "data": {
      "image/png": "[encoded data removed]",
      "text/plain": [
       "<matplotlib.figure.Figure at 0xbf2eb30>"
      ]
     },
     "metadata": {},
     "output_type": "display_data"
    }
   ],
   "source": [
    "plt.figure(figsize=(10,10))\n",
    "plt.scatter(merge2015['총인구'], merge2015['소계'], s=50)\n",
    "plt.plot(fx, f1(fx), ls ='dashed', lw = 3, color='g')\n",
    "plt.xlabel('총인구')\n",
    "plt.ylabel('CCTV')\n",
    "plt.grid()\n",
    "plt.show()\n",
    "#x축 데이터는 numpy의 linspave로 만들고, y축은 polyld로 만들 수 있다."
   ]
  },
  {
   "cell_type": "code",
   "execution_count": 31,
   "metadata": {},
   "outputs": [
    {
     "data": {
      "text/html": [
       "<div>\n",
       "<style>\n",
       "    .dataframe thead tr:only-child th {\n",
       "        text-align: right;\n",
       "    }\n",
       "\n",
       "    .dataframe thead th {\n",
       "        text-align: left;\n",
       "    }\n",
       "\n",
       "    .dataframe tbody tr th {\n",
       "        vertical-align: top;\n",
       "    }\n",
       "</style>\n",
       "<table border=\"1\" class=\"dataframe\">\n",
       "  <thead>\n",
       "    <tr style=\"text-align: right;\">\n",
       "      <th></th>\n",
       "      <th>소계</th>\n",
       "      <th>2014년 이전</th>\n",
       "      <th>2015년</th>\n",
       "      <th>총인구</th>\n",
       "      <th>남자</th>\n",
       "      <th>여자</th>\n",
       "      <th>여성비율</th>\n",
       "      <th>남성비율</th>\n",
       "      <th>CCTV비율</th>\n",
       "      <th>오차</th>\n",
       "    </tr>\n",
       "    <tr>\n",
       "      <th>구별</th>\n",
       "      <th></th>\n",
       "      <th></th>\n",
       "      <th></th>\n",
       "      <th></th>\n",
       "      <th></th>\n",
       "      <th></th>\n",
       "      <th></th>\n",
       "      <th></th>\n",
       "      <th></th>\n",
       "      <th></th>\n",
       "    </tr>\n",
       "  </thead>\n",
       "  <tbody>\n",
       "    <tr>\n",
       "      <th>강남구</th>\n",
       "      <td>3213</td>\n",
       "      <td>2453</td>\n",
       "      <td>760</td>\n",
       "      <td>540548</td>\n",
       "      <td>258775</td>\n",
       "      <td>281773</td>\n",
       "      <td>52.127286</td>\n",
       "      <td>47.872714</td>\n",
       "      <td>0.594397</td>\n",
       "      <td>1662.214908</td>\n",
       "    </tr>\n",
       "    <tr>\n",
       "      <th>관악구</th>\n",
       "      <td>2510</td>\n",
       "      <td>1917</td>\n",
       "      <td>593</td>\n",
       "      <td>521481</td>\n",
       "      <td>263101</td>\n",
       "      <td>258380</td>\n",
       "      <td>49.547347</td>\n",
       "      <td>50.452653</td>\n",
       "      <td>0.481321</td>\n",
       "      <td>967.047785</td>\n",
       "    </tr>\n",
       "    <tr>\n",
       "      <th>용산구</th>\n",
       "      <td>2244</td>\n",
       "      <td>2168</td>\n",
       "      <td>76</td>\n",
       "      <td>228421</td>\n",
       "      <td>110575</td>\n",
       "      <td>117846</td>\n",
       "      <td>51.591579</td>\n",
       "      <td>48.408421</td>\n",
       "      <td>0.982397</td>\n",
       "      <td>821.439186</td>\n",
       "    </tr>\n",
       "    <tr>\n",
       "      <th>강북구</th>\n",
       "      <td>689</td>\n",
       "      <td>542</td>\n",
       "      <td>147</td>\n",
       "      <td>321909</td>\n",
       "      <td>157363</td>\n",
       "      <td>164546</td>\n",
       "      <td>51.115688</td>\n",
       "      <td>48.884312</td>\n",
       "      <td>0.214036</td>\n",
       "      <td>771.966435</td>\n",
       "    </tr>\n",
       "    <tr>\n",
       "      <th>성동구</th>\n",
       "      <td>2210</td>\n",
       "      <td>2112</td>\n",
       "      <td>98</td>\n",
       "      <td>295266</td>\n",
       "      <td>146596</td>\n",
       "      <td>148670</td>\n",
       "      <td>50.351209</td>\n",
       "      <td>49.648791</td>\n",
       "      <td>0.748478</td>\n",
       "      <td>759.978723</td>\n",
       "    </tr>\n",
       "  </tbody>\n",
       "</table>\n",
       "</div>"
      ],
      "text/plain": [
       "       소계  2014년 이전  2015년     총인구      남자      여자       여성비율       남성비율  \\\n",
       "구별                                                                         \n",
       "강남구  3213      2453    760  540548  258775  281773  52.127286  47.872714   \n",
       "관악구  2510      1917    593  521481  263101  258380  49.547347  50.452653   \n",
       "용산구  2244      2168     76  228421  110575  117846  51.591579  48.408421   \n",
       "강북구   689       542    147  321909  157363  164546  51.115688  48.884312   \n",
       "성동구  2210      2112     98  295266  146596  148670  50.351209  49.648791   \n",
       "\n",
       "       CCTV비율           오차  \n",
       "구별                          \n",
       "강남구  0.594397  1662.214908  \n",
       "관악구  0.481321   967.047785  \n",
       "용산구  0.982397   821.439186  \n",
       "강북구  0.214036   771.966435  \n",
       "성동구  0.748478   759.978723  "
      ]
     },
     "execution_count": 31,
     "metadata": {},
     "output_type": "execute_result"
    }
   ],
   "source": [
    "fp1 = np.polyfit(merge2015['총인구'], merge2015['소계'], 1)\n",
    "\n",
    "f1 = np.poly1d(fp1)\n",
    "fx = np.linspace(100000, 700000, 100)\n",
    "\n",
    "merge2015['오차'] = np.abs(merge2015['소계'] - f1(merge2015['총인구']))\n",
    "\n",
    "df_sort = merge2015.sort_values(by = '오차', ascending=False)\n",
    "df_sort.head()"
   ]
  },
  {
   "cell_type": "code",
   "execution_count": 32,
   "metadata": {},
   "outputs": [
    {
     "data": {
      "image/png": "[encoded data removed]",
      "text/plain": [
       "<matplotlib.figure.Figure at 0xbeb68d0>"
      ]
     },
     "metadata": {},
     "output_type": "display_data"
    }
   ],
   "source": [
    "plt.figure(figsize=(14,10))\n",
    "plt.scatter(merge2015['총인구'], merge2015['소계'], c=merge2015['오차'], s=50)\n",
    "plt.plot(fx, f1(fx), ls='dashed', lw=3, color='g')\n",
    "\n",
    "for n in range(10):\n",
    "    plt.text(df_sort['총인구'][n]*1.02, df_sort['소계'][n]*0.98, df_sort.index[n], fontsize=15)\n",
    "    \n",
    "plt.xlabel('총인구')\n",
    "plt.ylabel('인구당비율')\n",
    "\n",
    "plt.colorbar()\n",
    "plt.grid()\n",
    "plt.show()"
   ]
  },
  {
   "cell_type": "code",
   "execution_count": 33,
   "metadata": {
    "collapsed": true
   },
   "outputs": [],
   "source": [
    "#직선을 기준으로 위에있는 강남구, 관악구, 구로구, 서대문구, 성동구는 서울시 전체 지역의 일반적인 경향보다 CCTV가 많이 서치된 지역이다.\n",
    "#송파구, 강서구, 중랑구, 도봉구, 강북구는 일반적인 경향보다 CCTV가 적게 설치된 지역이다. \n",
    "# 특히, 강남구는 월등히 많은 CCTV가 설치됐지만, 송파구는 인구수에 비해 너무나도 적은 수의 CCTV를 가지고 있다.\n"
   ]
  },
  {
   "cell_type": "code",
   "execution_count": 34,
   "metadata": {
    "collapsed": true
   },
   "outputs": [],
   "source": [
    "merge2015.to_csv('merge2015.csv', sep=',', encoding='utf-8')"
   ]
  },
  {
   "cell_type": "code",
   "execution_count": null,
   "metadata": {
    "collapsed": true
   },
   "outputs": [],
   "source": []
  },
  {
   "cell_type": "code",
   "execution_count": null,
   "metadata": {
    "collapsed": true
   },
   "outputs": [],
   "source": []
  }
 ],
 "metadata": {
  "kernelspec": {
   "display_name": "Python 3",
   "language": "python",
   "name": "python3"
  },
  "language_info": {
   "codemirror_mode": {
    "name": "ipython",
    "version": 3
   },
   "file_extension": ".py",
   "mimetype": "text/x-python",
   "name": "python",
   "nbconvert_exporter": "python",
   "pygments_lexer": "ipython3",
   "version": "3.6.2"
  }
 },
 "nbformat": 4,
 "nbformat_minor": 2
}
